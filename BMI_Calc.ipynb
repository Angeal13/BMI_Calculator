{
  "nbformat": 4,
  "nbformat_minor": 0,
  "metadata": {
    "colab": {
      "name": "BMI_Calc.ipynb",
      "provenance": [],
      "collapsed_sections": [],
      "authorship_tag": "ABX9TyO2KLEP35+u7teHiEnnT4pB",
      "include_colab_link": true
    },
    "kernelspec": {
      "name": "python3",
      "display_name": "Python 3"
    },
    "language_info": {
      "name": "python"
    }
  },
  "cells": [
    {
      "cell_type": "markdown",
      "metadata": {
        "id": "view-in-github",
        "colab_type": "text"
      },
      "source": [
        "<a href=\"https://colab.research.google.com/github/Angeal13/BMI_Calculator/blob/main/BMI_Calc.ipynb\" target=\"_parent\"><img src=\"https://colab.research.google.com/assets/colab-badge.svg\" alt=\"Open In Colab\"/></a>"
      ]
    },
    {
      "cell_type": "code",
      "metadata": {
        "id": "p_oZE0wN-o7B"
      },
      "source": [
        "class BMI():\n",
        "    def __init__(self,height,weight):\n",
        "        self.height=height\n",
        "        self.weight=weight\n",
        "    \n",
        "    def calculate(self):\n",
        "        self.bmi=self.weight/(self.height**2)\n",
        "        return self.bmi\n",
        "\n",
        "    def clasifier(self):\n",
        "      if (self.bmi < 18.5): \n",
        "       self.status=\"UnderWeight\"\n",
        "      elif ( self.bmi >= 18.5 and self.bmi < 24.9): \n",
        "        self.status=\"Healthy\" \n",
        "      elif ( self.bmi >= 24.9 and self.bmi < 30): \n",
        "        self.status=\"Overweight\" \n",
        "      elif ( self.bmi >=30): \n",
        "        self.status=\"Suffering from Obesity\"\n",
        "\n",
        "    def information(self):\n",
        "        self.information={\n",
        "            'Height(m)': self.height,\n",
        "            'Weight(Kg)': self.weight,\n",
        "            'bmi': self.bmi,\n",
        "            'status':self.status\n",
        "            }\n",
        "        return self.information\n",
        "\n"
      ],
      "execution_count": 1,
      "outputs": []
    },
    {
      "cell_type": "code",
      "metadata": {
        "id": "vl9DeknBbPbn",
        "colab": {
          "base_uri": "https://localhost:8080/"
        },
        "outputId": "3f1e437f-3802-4c60-bc68-b520847101fa"
      },
      "source": [
        "H=float(input('Height(m)'))\n",
        "W=float(input('Weight(Kg)'))\n",
        "Person1=BMI(H,W)\n",
        "Person1.calculate()\n",
        "Person1.clasifier()"
      ],
      "execution_count": 2,
      "outputs": [
        {
          "output_type": "stream",
          "text": [
            "Height(m)1.90\n",
            "Weight(Kg)85\n"
          ],
          "name": "stdout"
        }
      ]
    },
    {
      "cell_type": "code",
      "metadata": {
        "colab": {
          "base_uri": "https://localhost:8080/"
        },
        "id": "FEzMXUxKb4m2",
        "outputId": "d168f54b-74cf-4b47-ea89-41e887a4e53d"
      },
      "source": [
        "Person1.information()"
      ],
      "execution_count": 3,
      "outputs": [
        {
          "output_type": "execute_result",
          "data": {
            "text/plain": [
              "{'Height(m)': 1.9,\n",
              " 'Weight(Kg)': 85.0,\n",
              " 'bmi': 23.545706371191137,\n",
              " 'status': 'Healthy'}"
            ]
          },
          "metadata": {
            "tags": []
          },
          "execution_count": 3
        }
      ]
    }
  ]
}